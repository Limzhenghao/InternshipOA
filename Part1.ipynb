{
 "cells": [
  {
   "cell_type": "code",
   "execution_count": null,
   "id": "ff56afcf",
   "metadata": {
    "scrolled": false
   },
   "outputs": [],
   "source": [
    "import requests\n",
    "import csv\n",
    "\n",
    "# URL of the online JSON data\n",
    "url = 'https://raw.githubusercontent.com/Papagoat/brain-assessment/main/restaurant_data.json'\n",
    "\n",
    "# Send a GET request to fetch the JSON data\n",
    "response = requests.get(url)\n",
    "\n",
    "# Check if the request was successful (status code 200)\n",
    "if response.status_code == 200:\n",
    "    # Parse the JSON data\n",
    "    data = response.json()\n",
    "\n",
    "    # Extract the required fields\n",
    "    extracted_data = []\n",
    "    # Iterate through each element in the array that contains 20 restaurants \n",
    "    for index in range(0, len(data)):\n",
    "        for restaurant in data[index]['restaurants']:\n",
    "            extracted_data.append([\n",
    "            restaurant[\"restaurant\"][\"id\"],\n",
    "            restaurant[\"restaurant\"][\"name\"],\n",
    "            restaurant[\"restaurant\"][\"location\"][\"country_id\"],\n",
    "            restaurant[\"restaurant\"][\"location\"][\"city\"],\n",
    "            restaurant[\"restaurant\"][\"user_rating\"][\"votes\"],\n",
    "            restaurant[\"restaurant\"][\"user_rating\"][\"aggregate_rating\"],\n",
    "            restaurant[\"restaurant\"][\"cuisines\"]\n",
    "        ])\n",
    "\n",
    "    # Define the filename for the CSV file\n",
    "    filename = 'restaurants.csv'\n",
    "\n",
    "    # Write the extracted data into a CSV file\n",
    "    with open(filename, 'w', newline='', encoding='utf-8') as csvfile:\n",
    "        csv_writer = csv.writer(csvfile)\n",
    "        # Write the header\n",
    "        csv_writer.writerow(['Restaurant Id', 'Restaurant Name', 'Country', 'City', 'User Rating Votes', 'User Aggregate Rating', 'Cuisines'])\n",
    "        # Write the extracted data\n",
    "        csv_writer.writerows(extracted_data)\n"
   ]
  },
  {
   "cell_type": "code",
   "execution_count": null,
   "id": "b9e43d1f",
   "metadata": {
    "scrolled": false
   },
   "outputs": [],
   "source": [
    "import pandas as pd\n",
    "\n",
    "df = pd.read_csv(\"restaurants.csv\")\n",
    "df.head()"
   ]
  },
  {
   "cell_type": "code",
   "execution_count": null,
   "id": "9b5203b1",
   "metadata": {},
   "outputs": [],
   "source": []
  }
 ],
 "metadata": {
  "kernelspec": {
   "display_name": "Python 3 (ipykernel)",
   "language": "python",
   "name": "python3"
  },
  "language_info": {
   "codemirror_mode": {
    "name": "ipython",
    "version": 3
   },
   "file_extension": ".py",
   "mimetype": "text/x-python",
   "name": "python",
   "nbconvert_exporter": "python",
   "pygments_lexer": "ipython3",
   "version": "3.11.5"
  }
 },
 "nbformat": 4,
 "nbformat_minor": 5
}
